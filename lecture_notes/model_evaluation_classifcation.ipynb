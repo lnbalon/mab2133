{
 "cells": [
  {
   "cell_type": "markdown",
   "id": "335911f4-eae0-4874-9694-166c3e5b6c64",
   "metadata": {},
   "source": [
    "#### Introduction"
   ]
  },
  {
   "cell_type": "code",
   "execution_count": 1,
   "id": "edf2b6f9-4b8e-4d96-a5ae-57b8e0fcfd86",
   "metadata": {},
   "outputs": [],
   "source": [
    "import pandas as pd\n",
    "import numpy as np"
   ]
  },
  {
   "cell_type": "code",
   "execution_count": 35,
   "id": "385445cb-d00a-4cc6-9354-8025b2c7839f",
   "metadata": {},
   "outputs": [],
   "source": [
    "import matplotlib.pyplot as plt\n",
    "import seaborn as sns"
   ]
  },
  {
   "cell_type": "code",
   "execution_count": 36,
   "id": "cec47de9-0982-4d2c-91b2-eec11761732c",
   "metadata": {},
   "outputs": [],
   "source": [
    "import random"
   ]
  },
  {
   "cell_type": "markdown",
   "id": "cfa2b690-f19a-4079-9426-fabe710d71ae",
   "metadata": {},
   "source": [
    "### Generate A Sample Dataset\n",
    "\n",
    "Assume:\n",
    "- that we created a classifier that determines whether an email is a spam or not\n",
    "- that classifier gives a score that ranges from zero to one depending on its confidence that an email is a spam. \n",
    "- it will give a score closer to one if it \"thinks\" that an email is a spam, and a score closer to zero if it considers that an email is not a spam."
   ]
  },
  {
   "cell_type": "code",
   "execution_count": 46,
   "id": "eb546fca-1666-4ef7-a967-4406263f52cd",
   "metadata": {},
   "outputs": [],
   "source": [
    "actual_values = ['not_spam', 'not_spam', 'spam', 'not_spam', 'spam', 'not_spam', 'not_spam', 'not_spam', 'spam', \n",
    "                     'not_spam', 'spam', 'spam', 'spam', 'not_spam', 'not_spam', 'spam', 'spam', 'not_spam', \n",
    "                     'not_spam', 'spam', 'not_spam', 'spam', 'not_spam', 'spam', 'not_spam', 'not_spam', 'not_spam', \n",
    "                     'spam', 'not_spam', 'spam', 'not_spam', 'not_spam', 'spam', 'not_spam', 'not_spam', 'not_spam', \n",
    "                     'spam', 'not_spam', 'spam', 'not_spam', 'spam', 'not_spam', 'spam', 'not_spam', 'not_spam', \n",
    "                     'spam', 'not_spam', 'not_spam', 'not_spam', 'spam', 'spam', 'spam', 'spam', 'not_spam', 'not_spam', \n",
    "                     'not_spam', 'not_spam', 'spam', 'spam', 'spam', 'not_spam', 'not_spam', 'spam', 'not_spam', 'not_spam', \n",
    "                     'spam', 'not_spam', 'not_spam', 'not_spam', 'not_spam', 'spam', 'spam', 'not_spam', 'not_spam', 'not_spam',\n",
    "                     'spam', 'spam', 'not_spam', 'not_spam', 'not_spam', 'not_spam', 'not_spam', 'not_spam', 'not_spam', 'not_spam', \n",
    "                     'not_spam', 'spam', 'not_spam', 'not_spam', 'not_spam', 'not_spam', 'not_spam', 'not_spam', 'spam', \n",
    "                     'not_spam', 'spam', 'spam', 'spam', 'not_spam', 'not_spam']"
   ]
  },
  {
   "cell_type": "code",
   "execution_count": 47,
   "id": "1f12e4c0-3173-4690-8771-516b791bdf23",
   "metadata": {
    "tags": []
   },
   "outputs": [
    {
     "data": {
      "text/plain": [
       "{'not_spam', 'spam'}"
      ]
     },
     "execution_count": 47,
     "metadata": {},
     "output_type": "execute_result"
    }
   ],
   "source": [
    "set(actual_values)"
   ]
  },
  {
   "cell_type": "code",
   "execution_count": 54,
   "id": "b089e17e-2dea-4a44-9d97-9bab8f197e43",
   "metadata": {},
   "outputs": [],
   "source": [
    "calculated_values = [random.randrange(40,100,1) if x=='spam' else random.randrange(0,55,1) for x in actual_values]\n",
    "calculated_values = [x/100 for x in calculated_values]"
   ]
  },
  {
   "cell_type": "code",
   "execution_count": 55,
   "id": "aaecb4a9-1e87-4761-926b-5e1423c48263",
   "metadata": {},
   "outputs": [],
   "source": [
    "threshold = 0.5\n",
    "predicted = ['spam' if x>threshold else 'not_spam' for x in calculated_values]"
   ]
  },
  {
   "cell_type": "code",
   "execution_count": 56,
   "id": "f8db3e50-743c-4579-adc1-614fb3e8eec4",
   "metadata": {},
   "outputs": [],
   "source": [
    "test_df = pd.DataFrame({'email_number': list(range(100)),\n",
    "                        'actual': actual_values,\n",
    "                        'classifier_score': calculated_values,\n",
    "                        'predicted': predicted})"
   ]
  },
  {
   "cell_type": "code",
   "execution_count": 57,
   "id": "4eda3489-a944-4467-98d7-e1cb938eb7f2",
   "metadata": {},
   "outputs": [
    {
     "data": {
      "text/html": [
       "<div>\n",
       "<style scoped>\n",
       "    .dataframe tbody tr th:only-of-type {\n",
       "        vertical-align: middle;\n",
       "    }\n",
       "\n",
       "    .dataframe tbody tr th {\n",
       "        vertical-align: top;\n",
       "    }\n",
       "\n",
       "    .dataframe thead th {\n",
       "        text-align: right;\n",
       "    }\n",
       "</style>\n",
       "<table border=\"1\" class=\"dataframe\">\n",
       "  <thead>\n",
       "    <tr style=\"text-align: right;\">\n",
       "      <th></th>\n",
       "      <th>email_number</th>\n",
       "      <th>actual</th>\n",
       "      <th>classifier_score</th>\n",
       "      <th>predicted</th>\n",
       "    </tr>\n",
       "  </thead>\n",
       "  <tbody>\n",
       "    <tr>\n",
       "      <th>0</th>\n",
       "      <td>0</td>\n",
       "      <td>not_spam</td>\n",
       "      <td>0.03</td>\n",
       "      <td>not_spam</td>\n",
       "    </tr>\n",
       "    <tr>\n",
       "      <th>1</th>\n",
       "      <td>1</td>\n",
       "      <td>not_spam</td>\n",
       "      <td>0.37</td>\n",
       "      <td>not_spam</td>\n",
       "    </tr>\n",
       "    <tr>\n",
       "      <th>2</th>\n",
       "      <td>2</td>\n",
       "      <td>spam</td>\n",
       "      <td>0.40</td>\n",
       "      <td>not_spam</td>\n",
       "    </tr>\n",
       "    <tr>\n",
       "      <th>3</th>\n",
       "      <td>3</td>\n",
       "      <td>not_spam</td>\n",
       "      <td>0.25</td>\n",
       "      <td>not_spam</td>\n",
       "    </tr>\n",
       "    <tr>\n",
       "      <th>4</th>\n",
       "      <td>4</td>\n",
       "      <td>spam</td>\n",
       "      <td>0.83</td>\n",
       "      <td>spam</td>\n",
       "    </tr>\n",
       "  </tbody>\n",
       "</table>\n",
       "</div>"
      ],
      "text/plain": [
       "   email_number    actual  classifier_score predicted\n",
       "0             0  not_spam              0.03  not_spam\n",
       "1             1  not_spam              0.37  not_spam\n",
       "2             2      spam              0.40  not_spam\n",
       "3             3  not_spam              0.25  not_spam\n",
       "4             4      spam              0.83      spam"
      ]
     },
     "execution_count": 57,
     "metadata": {},
     "output_type": "execute_result"
    }
   ],
   "source": [
    "test_df.head()"
   ]
  },
  {
   "cell_type": "code",
   "execution_count": 58,
   "id": "80606cce-b9fc-4577-a308-0069e842d7fb",
   "metadata": {},
   "outputs": [
    {
     "data": {
      "text/plain": [
       "not_spam    63\n",
       "spam        37\n",
       "Name: actual, dtype: int64"
      ]
     },
     "execution_count": 58,
     "metadata": {},
     "output_type": "execute_result"
    }
   ],
   "source": [
    "test_df['actual'].value_counts()"
   ]
  },
  {
   "cell_type": "code",
   "execution_count": 61,
   "id": "d9c53c24-7e26-415f-adbc-2e3e183b8d74",
   "metadata": {},
   "outputs": [
    {
     "data": {
      "image/png": "[encoded data removed]",
      "text/plain": [
       "<Figure size 432x288 with 1 Axes>"
      ]
     },
     "metadata": {
      "needs_background": "light"
     },
     "output_type": "display_data"
    }
   ],
   "source": [
    "ax = sns.histplot(data=test_df, x=\"classifier_score\", hue='actual', kde=True)"
   ]
  },
  {
   "cell_type": "code",
   "execution_count": 60,
   "id": "00bc669b-0918-4c9a-b23d-65a1416fed0e",
   "metadata": {},
   "outputs": [
    {
     "data": {
      "image/png": "[encoded data removed]",
      "text/plain": [
       "<Figure size 432x288 with 1 Axes>"
      ]
     },
     "metadata": {
      "needs_background": "light"
     },
     "output_type": "display_data"
    }
   ],
   "source": [
    "ax = sns.histplot(data=test_df, x=\"classifier_score\", hue='predicted', kde=True)"
   ]
  },
  {
   "cell_type": "markdown",
   "id": "f204ef7f-629d-42e9-bab3-eb6b7cc9bee1",
   "metadata": {},
   "source": [
    "### Testing the Accuracy"
   ]
  },
  {
   "cell_type": "markdown",
   "id": "ad407453-2d96-4e28-8578-51db3139410b",
   "metadata": {},
   "source": [
    "- To test the accuracy, we can compare the `actual` with the `predicted` column.\n",
    "- Remember that `True` has a value of `1` in Python. Thus using `mean` to get the accuracy is valid. "
   ]
  },
  {
   "cell_type": "code",
   "execution_count": 62,
   "id": "8780eb5f-e091-4d3e-a4cf-89906137e853",
   "metadata": {},
   "outputs": [
    {
     "data": {
      "text/plain": [
       "91.0"
      ]
     },
     "execution_count": 62,
     "metadata": {},
     "output_type": "execute_result"
    }
   ],
   "source": [
    "accuracy = (test_df['actual'] == test_df['predicted']).mean() * 100\n",
    "accuracy"
   ]
  },
  {
   "cell_type": "markdown",
   "id": "af03cdd9-35bf-4f80-b361-d5d5247c331c",
   "metadata": {},
   "source": [
    "- Our model is 90% accurate\n",
    "- But that is an incomplete picture of the performance of our classifier\n",
    "- Let us illustrate that with an example\n",
    "- Suppose we created a `stupid_classifier` that randomly classifies emails"
   ]
  },
  {
   "cell_type": "code",
   "execution_count": 71,
   "id": "e8d2b8cb-3880-4fcb-b869-d54efea7f697",
   "metadata": {},
   "outputs": [],
   "source": [
    "test_df['stupid_classifier'] = ['spam' if random.random()>0.8 else 'not_spam' for x in range(100)]"
   ]
  },
  {
   "cell_type": "code",
   "execution_count": 72,
   "id": "701b71a5-1b0b-428d-84c7-eccaf5f83775",
   "metadata": {},
   "outputs": [
    {
     "data": {
      "text/plain": [
       "65.0"
      ]
     },
     "execution_count": 72,
     "metadata": {},
     "output_type": "execute_result"
    }
   ],
   "source": [
    "accuracy_stupid = (test_df['actual'] == test_df['stupid_classifier']).mean() * 100\n",
    "accuracy_stupid"
   ]
  },
  {
   "cell_type": "markdown",
   "id": "f25e890d-7a59-425f-85fc-9f45e20b9413",
   "metadata": {},
   "source": [
    "- Holy fuck! Our stupid classifier that categorizes everything as not a spam performed almost as good!\n",
    "- This is akin to our friends who claims that they have strong gaydars. When they tag every effeminate guy they met as gay, they would have a high accuracy. But can they accurately detect those like us who hid behind a beard, and a rough personality?\n",
    "- That is where the confusingly named `confusion matrix` comes in\n",
    "- Let us discuss each part"
   ]
  },
  {
   "cell_type": "markdown",
   "id": "22295e63-4410-4803-b450-6762b3201032",
   "metadata": {},
   "source": [
    "#### True Positive\n",
    "\n",
    "- In our case spams that are labelled acurately as spam"
   ]
  },
  {
   "cell_type": "code",
   "execution_count": 33,
   "id": "9cfb3d19-9aaa-4560-b3c7-73255043a131",
   "metadata": {},
   "outputs": [
    {
     "data": {
      "text/plain": [
       "9"
      ]
     },
     "execution_count": 33,
     "metadata": {},
     "output_type": "execute_result"
    }
   ],
   "source": [
    "tp_classifier = (test_df['actual']=='spam') & (test_df['predicted']=='spam')\n",
    "tp_classifier.sum()"
   ]
  },
  {
   "cell_type": "code",
   "execution_count": 34,
   "id": "00011a82-270f-401b-b8d5-8a221625cdd3",
   "metadata": {},
   "outputs": [
    {
     "data": {
      "text/plain": [
       "0.6923076923076923"
      ]
     },
     "execution_count": 34,
     "metadata": {},
     "output_type": "execute_result"
    }
   ],
   "source": [
    "tpr = tp_classifier.sum() / (test_df['actual']=='spam').sum()\n",
    "tpr"
   ]
  },
  {
   "cell_type": "markdown",
   "id": "92dac00f-3a63-4643-a085-fba6da0f95b1",
   "metadata": {},
   "source": [
    "#### True Negative\n",
    "\n",
    "- In our case these are those not spams accurately labelled as not"
   ]
  },
  {
   "cell_type": "code",
   "execution_count": 14,
   "id": "6b79037d-9640-49fc-968b-a751c15a47b7",
   "metadata": {},
   "outputs": [
    {
     "data": {
      "text/plain": [
       "62"
      ]
     },
     "execution_count": 14,
     "metadata": {},
     "output_type": "execute_result"
    }
   ],
   "source": [
    "tn_classifier = (test_df['actual']=='not_spam') & (test_df['predicted']=='not_spam')\n",
    "tn_classifier.sum()"
   ]
  },
  {
   "cell_type": "code",
   "execution_count": 15,
   "id": "17369dde-e705-49bb-acbc-03a070cd31e3",
   "metadata": {},
   "outputs": [
    {
     "data": {
      "text/plain": [
       "0.7126436781609196"
      ]
     },
     "execution_count": 15,
     "metadata": {},
     "output_type": "execute_result"
    }
   ],
   "source": [
    "tnr = tn_classifier.sum() / (test_df['actual']=='not_spam').sum()\n",
    "tnr"
   ]
  },
  {
   "cell_type": "markdown",
   "id": "bdeb3e4e-4c06-4c08-91b9-e5cd1821e17b",
   "metadata": {},
   "source": [
    "#### False Positive\n",
    "\n",
    "- Not spams labelled as spams"
   ]
  },
  {
   "cell_type": "code",
   "execution_count": 16,
   "id": "39b6f06c-1f62-456e-8d7c-b0fb6b1fb873",
   "metadata": {},
   "outputs": [
    {
     "data": {
      "text/plain": [
       "25"
      ]
     },
     "execution_count": 16,
     "metadata": {},
     "output_type": "execute_result"
    }
   ],
   "source": [
    "fp_classifier = (test_df['actual']=='not_spam') & (test_df['predicted']=='spam')\n",
    "fp_classifier.sum()"
   ]
  },
  {
   "cell_type": "code",
   "execution_count": 17,
   "id": "36ebd2ba-e3c3-4791-b492-f93b95416460",
   "metadata": {},
   "outputs": [
    {
     "data": {
      "text/plain": [
       "1.9230769230769231"
      ]
     },
     "execution_count": 17,
     "metadata": {},
     "output_type": "execute_result"
    }
   ],
   "source": [
    "fpr = fp_classifier.sum() / (test_df['actual']=='spam').sum()\n",
    "fpr"
   ]
  },
  {
   "cell_type": "raw",
   "id": "14c61659-226e-4db7-80a1-c9d540c0138c",
   "metadata": {},
   "source": [
    "test_df[fp_classifier]"
   ]
  },
  {
   "cell_type": "markdown",
   "id": "a5649836-87f0-4620-818c-dd503a7ac297",
   "metadata": {},
   "source": [
    "#### False Negative\n",
    "\n",
    "- Spams labelled as emails"
   ]
  },
  {
   "cell_type": "code",
   "execution_count": 18,
   "id": "c66c17ba-3f36-4037-869d-fe6c34218b85",
   "metadata": {},
   "outputs": [
    {
     "data": {
      "text/plain": [
       "5"
      ]
     },
     "execution_count": 18,
     "metadata": {},
     "output_type": "execute_result"
    }
   ],
   "source": [
    "fn_classifier = (test_df['actual']=='spam') & (test_df['predicted']=='not_spam')\n",
    "fn_classifier.sum()"
   ]
  },
  {
   "cell_type": "code",
   "execution_count": 19,
   "id": "85c76d6c-0521-4964-97cc-d5e57bbbc161",
   "metadata": {},
   "outputs": [
    {
     "data": {
      "text/plain": [
       "0.07462686567164178"
      ]
     },
     "execution_count": 19,
     "metadata": {},
     "output_type": "execute_result"
    }
   ],
   "source": [
    "fnr = fn_classifier.sum() / (test_df['predicted']=='not_spam').sum()\n",
    "fnr"
   ]
  },
  {
   "cell_type": "code",
   "execution_count": 20,
   "id": "8ef63d84-21a3-4aa2-a6b0-4ac8e1413cd3",
   "metadata": {},
   "outputs": [
    {
     "data": {
      "text/html": [
       "<div>\n",
       "<style scoped>\n",
       "    .dataframe tbody tr th:only-of-type {\n",
       "        vertical-align: middle;\n",
       "    }\n",
       "\n",
       "    .dataframe tbody tr th {\n",
       "        vertical-align: top;\n",
       "    }\n",
       "\n",
       "    .dataframe thead th {\n",
       "        text-align: right;\n",
       "    }\n",
       "</style>\n",
       "<table border=\"1\" class=\"dataframe\">\n",
       "  <thead>\n",
       "    <tr style=\"text-align: right;\">\n",
       "      <th></th>\n",
       "      <th>email_number</th>\n",
       "      <th>actual</th>\n",
       "      <th>classifier_score</th>\n",
       "      <th>predicted</th>\n",
       "      <th>stupid_classifier</th>\n",
       "    </tr>\n",
       "  </thead>\n",
       "  <tbody>\n",
       "    <tr>\n",
       "      <th>8</th>\n",
       "      <td>8</td>\n",
       "      <td>spam</td>\n",
       "      <td>0.40</td>\n",
       "      <td>not_spam</td>\n",
       "      <td>not_spam</td>\n",
       "    </tr>\n",
       "    <tr>\n",
       "      <th>36</th>\n",
       "      <td>36</td>\n",
       "      <td>spam</td>\n",
       "      <td>0.32</td>\n",
       "      <td>not_spam</td>\n",
       "      <td>not_spam</td>\n",
       "    </tr>\n",
       "    <tr>\n",
       "      <th>52</th>\n",
       "      <td>52</td>\n",
       "      <td>spam</td>\n",
       "      <td>0.33</td>\n",
       "      <td>not_spam</td>\n",
       "      <td>not_spam</td>\n",
       "    </tr>\n",
       "    <tr>\n",
       "      <th>65</th>\n",
       "      <td>65</td>\n",
       "      <td>spam</td>\n",
       "      <td>0.36</td>\n",
       "      <td>not_spam</td>\n",
       "      <td>not_spam</td>\n",
       "    </tr>\n",
       "    <tr>\n",
       "      <th>97</th>\n",
       "      <td>97</td>\n",
       "      <td>spam</td>\n",
       "      <td>0.44</td>\n",
       "      <td>not_spam</td>\n",
       "      <td>not_spam</td>\n",
       "    </tr>\n",
       "  </tbody>\n",
       "</table>\n",
       "</div>"
      ],
      "text/plain": [
       "    email_number actual  classifier_score predicted stupid_classifier\n",
       "8              8   spam              0.40  not_spam          not_spam\n",
       "36            36   spam              0.32  not_spam          not_spam\n",
       "52            52   spam              0.33  not_spam          not_spam\n",
       "65            65   spam              0.36  not_spam          not_spam\n",
       "97            97   spam              0.44  not_spam          not_spam"
      ]
     },
     "execution_count": 20,
     "metadata": {},
     "output_type": "execute_result"
    }
   ],
   "source": [
    "test_df[fn_classifier]"
   ]
  }
 ],
 "metadata": {
  "kernelspec": {
   "display_name": "Python 3",
   "language": "python",
   "name": "python3"
  },
  "language_info": {
   "codemirror_mode": {
    "name": "ipython",
    "version": 3
   },
   "file_extension": ".py",
   "mimetype": "text/x-python",
   "name": "python",
   "nbconvert_exporter": "python",
   "pygments_lexer": "ipython3",
   "version": "3.8.8"
  }
 },
 "nbformat": 4,
 "nbformat_minor": 5
}
