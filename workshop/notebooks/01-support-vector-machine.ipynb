{
 "cells": [
  {
   "cell_type": "markdown",
   "id": "a56dd827-f9a2-4255-8fbe-c093d50706d2",
   "metadata": {},
   "source": [
    "## Support Vector Machines"
   ]
  },
  {
   "cell_type": "markdown",
   "id": "9af788d0-08dc-4054-a3e0-9bcfbbc8cd0e",
   "metadata": {},
   "source": [
    "### Table of Contents\n",
    "\n",
    "- [Packages and Notebook Properties](#notebook)\n",
    "- [Theory Discussion](#theory)\n",
    "- [Dataset Exploration](#dataset)\n",
    "- [Implementation](#implementation)"
   ]
  },
  {
   "cell_type": "markdown",
   "id": "dcf8306c-a3bf-4030-8298-dd414feddbc8",
   "metadata": {},
   "source": [
    "### Packages and Notebook Properties"
   ]
  },
  {
   "cell_type": "code",
   "execution_count": 4,
   "id": "a14e9167-c36c-4356-b8d6-4689df59d2a8",
   "metadata": {},
   "outputs": [],
   "source": [
    "import pandas as pd\n",
    "import numpy as np\n",
    "import matplotlib.pyplot as plt\n",
    "import seaborn as sns\n",
    "import warnings\n",
    "import sys\n",
    "import os"
   ]
  },
  {
   "cell_type": "code",
   "execution_count": 5,
   "id": "9cfa12fb-de6d-47eb-9091-0f6817731d7b",
   "metadata": {},
   "outputs": [],
   "source": [
    "warnings.filterwarnings('ignore')"
   ]
  },
  {
   "cell_type": "markdown",
   "id": "bc77d1a3-8b2f-4525-bbd0-2f0c24e601d4",
   "metadata": {},
   "source": [
    "### Theory Discussion"
   ]
  },
  {
   "cell_type": "markdown",
   "id": "ea4c81fd-62b6-4b5e-b49b-1c9655371878",
   "metadata": {},
   "source": [
    "### Dataset Exploration"
   ]
  },
  {
   "cell_type": "code",
   "execution_count": null,
   "id": "de1dc0f0-b5a8-4891-9054-788fe55f54d3",
   "metadata": {},
   "outputs": [],
   "source": [
    "df = "
   ]
  }
 ],
 "metadata": {
  "kernelspec": {
   "display_name": "Python 3",
   "language": "python",
   "name": "python3"
  },
  "language_info": {
   "codemirror_mode": {
    "name": "ipython",
    "version": 3
   },
   "file_extension": ".py",
   "mimetype": "text/x-python",
   "name": "python",
   "nbconvert_exporter": "python",
   "pygments_lexer": "ipython3",
   "version": "3.8.8"
  }
 },
 "nbformat": 4,
 "nbformat_minor": 5
}
