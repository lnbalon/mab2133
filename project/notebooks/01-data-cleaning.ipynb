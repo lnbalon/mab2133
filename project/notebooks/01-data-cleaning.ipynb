{
 "cells": [
  {
   "cell_type": "code",
   "execution_count": 1,
   "metadata": {},
   "outputs": [],
   "source": [
    "import os\n",
    "import pandas as pd"
   ]
  },
  {
   "cell_type": "code",
   "execution_count": 2,
   "metadata": {},
   "outputs": [],
   "source": [
    "PATH = '../raw_data'"
   ]
  },
  {
   "cell_type": "code",
   "execution_count": 3,
   "metadata": {},
   "outputs": [
    {
     "data": {
      "text/plain": [
       "['governors_county_candidate.csv',\n",
       " 'president_county_candidate.csv',\n",
       " 'governors_state.csv',\n",
       " 'governors_county.csv',\n",
       " 'senate_state.csv',\n",
       " 'house_candidate.csv',\n",
       " 'senate_county.csv',\n",
       " 'president_state.csv',\n",
       " 'president_county.csv',\n",
       " 'house_state.csv',\n",
       " 'senate_county_candidate.csv']"
      ]
     },
     "execution_count": 3,
     "metadata": {},
     "output_type": "execute_result"
    }
   ],
   "source": [
    "os.listdir(PATH)"
   ]
  },
  {
   "cell_type": "code",
   "execution_count": 4,
   "metadata": {},
   "outputs": [
    {
     "data": {
      "text/html": [
       "<div>\n",
       "<style scoped>\n",
       "    .dataframe tbody tr th:only-of-type {\n",
       "        vertical-align: middle;\n",
       "    }\n",
       "\n",
       "    .dataframe tbody tr th {\n",
       "        vertical-align: top;\n",
       "    }\n",
       "\n",
       "    .dataframe thead th {\n",
       "        text-align: right;\n",
       "    }\n",
       "</style>\n",
       "<table border=\"1\" class=\"dataframe\">\n",
       "  <thead>\n",
       "    <tr style=\"text-align: right;\">\n",
       "      <th></th>\n",
       "      <th>state</th>\n",
       "      <th>county</th>\n",
       "      <th>candidate</th>\n",
       "      <th>party</th>\n",
       "      <th>total_votes</th>\n",
       "      <th>won</th>\n",
       "    </tr>\n",
       "  </thead>\n",
       "  <tbody>\n",
       "    <tr>\n",
       "      <th>0</th>\n",
       "      <td>Delaware</td>\n",
       "      <td>Kent County</td>\n",
       "      <td>Joe Biden</td>\n",
       "      <td>DEM</td>\n",
       "      <td>44552</td>\n",
       "      <td>True</td>\n",
       "    </tr>\n",
       "    <tr>\n",
       "      <th>1</th>\n",
       "      <td>Delaware</td>\n",
       "      <td>Kent County</td>\n",
       "      <td>Donald Trump</td>\n",
       "      <td>REP</td>\n",
       "      <td>41009</td>\n",
       "      <td>False</td>\n",
       "    </tr>\n",
       "    <tr>\n",
       "      <th>2</th>\n",
       "      <td>Delaware</td>\n",
       "      <td>Kent County</td>\n",
       "      <td>Jo Jorgensen</td>\n",
       "      <td>LIB</td>\n",
       "      <td>1044</td>\n",
       "      <td>False</td>\n",
       "    </tr>\n",
       "    <tr>\n",
       "      <th>3</th>\n",
       "      <td>Delaware</td>\n",
       "      <td>Kent County</td>\n",
       "      <td>Howie Hawkins</td>\n",
       "      <td>GRN</td>\n",
       "      <td>420</td>\n",
       "      <td>False</td>\n",
       "    </tr>\n",
       "    <tr>\n",
       "      <th>4</th>\n",
       "      <td>Delaware</td>\n",
       "      <td>New Castle County</td>\n",
       "      <td>Joe Biden</td>\n",
       "      <td>DEM</td>\n",
       "      <td>195034</td>\n",
       "      <td>True</td>\n",
       "    </tr>\n",
       "  </tbody>\n",
       "</table>\n",
       "</div>"
      ],
      "text/plain": [
       "      state             county      candidate party  total_votes    won\n",
       "0  Delaware        Kent County      Joe Biden   DEM        44552   True\n",
       "1  Delaware        Kent County   Donald Trump   REP        41009  False\n",
       "2  Delaware        Kent County   Jo Jorgensen   LIB         1044  False\n",
       "3  Delaware        Kent County  Howie Hawkins   GRN          420  False\n",
       "4  Delaware  New Castle County      Joe Biden   DEM       195034   True"
      ]
     },
     "execution_count": 4,
     "metadata": {},
     "output_type": "execute_result"
    }
   ],
   "source": [
    "pres_county_candidate = pd.read_csv(os.path.join(PATH, 'president_county_candidate.csv'))\n",
    "pres_county_candidate.head()"
   ]
  },
  {
   "cell_type": "code",
   "execution_count": 10,
   "metadata": {},
   "outputs": [
    {
     "data": {
      "text/plain": [
       "((3007,), (32177, 6))"
      ]
     },
     "execution_count": 10,
     "metadata": {},
     "output_type": "execute_result"
    }
   ],
   "source": [
    "pres_county_candidate['county'].unique().shape, pres_county_candidate.shape"
   ]
  },
  {
   "cell_type": "code",
   "execution_count": 12,
   "metadata": {},
   "outputs": [
    {
     "data": {
      "text/plain": [
       "(4633, 2)"
      ]
     },
     "execution_count": 12,
     "metadata": {},
     "output_type": "execute_result"
    }
   ],
   "source": [
    "pres_county_candidate[['state','county']].drop_duplicates().shape"
   ]
  },
  {
   "cell_type": "markdown",
   "metadata": {},
   "source": [
    "There are 4633 counties in the dataset. "
   ]
  },
  {
   "cell_type": "code",
   "execution_count": 19,
   "metadata": {},
   "outputs": [],
   "source": [
    "pres_county_grouped = pres_county_candidate.groupby('candidate', as_index=False).agg({'won': 'sum', 'total_votes': 'sum'}).sort_values('total_votes', ascending=False)"
   ]
  },
  {
   "cell_type": "code",
   "execution_count": 20,
   "metadata": {},
   "outputs": [
    {
     "data": {
      "text/html": [
       "<div>\n",
       "<style scoped>\n",
       "    .dataframe tbody tr th:only-of-type {\n",
       "        vertical-align: middle;\n",
       "    }\n",
       "\n",
       "    .dataframe tbody tr th {\n",
       "        vertical-align: top;\n",
       "    }\n",
       "\n",
       "    .dataframe thead th {\n",
       "        text-align: right;\n",
       "    }\n",
       "</style>\n",
       "<table border=\"1\" class=\"dataframe\">\n",
       "  <thead>\n",
       "    <tr style=\"text-align: right;\">\n",
       "      <th></th>\n",
       "      <th>candidate</th>\n",
       "      <th>won</th>\n",
       "      <th>total_votes</th>\n",
       "    </tr>\n",
       "  </thead>\n",
       "  <tbody>\n",
       "    <tr>\n",
       "      <th>20</th>\n",
       "      <td>Joe Biden</td>\n",
       "      <td>1410</td>\n",
       "      <td>82046434</td>\n",
       "    </tr>\n",
       "    <tr>\n",
       "      <th>12</th>\n",
       "      <td>Donald Trump</td>\n",
       "      <td>3219</td>\n",
       "      <td>74585705</td>\n",
       "    </tr>\n",
       "    <tr>\n",
       "      <th>19</th>\n",
       "      <td>Jo Jorgensen</td>\n",
       "      <td>1</td>\n",
       "      <td>1874183</td>\n",
       "    </tr>\n",
       "    <tr>\n",
       "      <th>15</th>\n",
       "      <td>Howie Hawkins</td>\n",
       "      <td>0</td>\n",
       "      <td>404835</td>\n",
       "    </tr>\n",
       "    <tr>\n",
       "      <th>1</th>\n",
       "      <td>Write-ins</td>\n",
       "      <td>3</td>\n",
       "      <td>254274</td>\n",
       "    </tr>\n",
       "  </tbody>\n",
       "</table>\n",
       "</div>"
      ],
      "text/plain": [
       "        candidate   won  total_votes\n",
       "20      Joe Biden  1410     82046434\n",
       "12   Donald Trump  3219     74585705\n",
       "19   Jo Jorgensen     1      1874183\n",
       "15  Howie Hawkins     0       404835\n",
       "1       Write-ins     3       254274"
      ]
     },
     "execution_count": 20,
     "metadata": {},
     "output_type": "execute_result"
    }
   ],
   "source": [
    "pres_county_grouped.head()"
   ]
  },
  {
   "cell_type": "code",
   "execution_count": null,
   "metadata": {},
   "outputs": [],
   "source": []
  }
 ],
 "metadata": {
  "kernelspec": {
   "display_name": "Python 3",
   "language": "python",
   "name": "python3"
  },
  "language_info": {
   "codemirror_mode": {
    "name": "ipython",
    "version": 3
   },
   "file_extension": ".py",
   "mimetype": "text/x-python",
   "name": "python",
   "nbconvert_exporter": "python",
   "pygments_lexer": "ipython3",
   "version": "3.6.12"
  }
 },
 "nbformat": 4,
 "nbformat_minor": 4
}
