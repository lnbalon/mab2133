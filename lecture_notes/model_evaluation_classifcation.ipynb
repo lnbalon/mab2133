{
 "cells": [
  {
   "cell_type": "markdown",
   "id": "335911f4-eae0-4874-9694-166c3e5b6c64",
   "metadata": {},
   "source": [
    "#### Introduction"
   ]
  },
  {
   "cell_type": "code",
   "execution_count": 1,
   "id": "edf2b6f9-4b8e-4d96-a5ae-57b8e0fcfd86",
   "metadata": {},
   "outputs": [],
   "source": [
    "import pandas as pd\n",
    "import numpy as np"
   ]
  },
  {
   "cell_type": "code",
   "execution_count": 2,
   "id": "385445cb-d00a-4cc6-9354-8025b2c7839f",
   "metadata": {},
   "outputs": [],
   "source": [
    "import matplotlib.pyplot as plt\n",
    "import seaborn as sns"
   ]
  },
  {
   "cell_type": "code",
   "execution_count": 53,
   "id": "cec47de9-0982-4d2c-91b2-eec11761732c",
   "metadata": {},
   "outputs": [],
   "source": [
    "import random\n",
    "import warnings\n",
    "warnings.filterwarnings('ignore')"
   ]
  },
  {
   "cell_type": "markdown",
   "id": "cfa2b690-f19a-4079-9426-fabe710d71ae",
   "metadata": {},
   "source": [
    "### Generate A Sample Dataset"
   ]
  },
  {
   "cell_type": "code",
   "execution_count": 208,
   "id": "abab74a5-7c98-49fd-9386-a6c5367c3ac2",
   "metadata": {},
   "outputs": [],
   "source": [
    "def generate_sample_dataset(n_samples, overlap, threshold):\n",
    "    actual_values = ['positive' if random.random()>0.5 else 'negative' for x in range(n_samples)]\n",
    "    predicted = ['positive' if x>threshold else 'negative' for x in calculated_values]\n",
    "    \n",
    "    df = pd.DataFrame({'sample_number': list(range(n_samples)),\n",
    "                       'actual_label': actual_values})\n",
    "    \n",
    "    upper = int(50+100*overlap/2)\n",
    "    lower = int(50-100*overlap/2)\n",
    "    \n",
    "    df['predicted_probability'] = [random.gauss(center1, sigma=10) if x=='negative' else random.gauss(center2, sigma=10) for x in df['actual_label']]\n",
    "    df['predicted_label'] = ['positive' if x>threshold else 'negative' for x in df['predicted_probability']]\n",
    "    \n",
    "    return final"
   ]
  },
  {
   "cell_type": "code",
   "execution_count": 209,
   "id": "b78f0aea-9dc1-4174-9f01-0c9089498a7e",
   "metadata": {},
   "outputs": [],
   "source": [
    "n_samples = 10000\n",
    "overlap = 1\n",
    "threshold = 0.6"
   ]
  },
  {
   "cell_type": "code",
   "execution_count": 210,
   "id": "c8e1504c-9627-4ac6-baf5-90e9d8fa8b43",
   "metadata": {},
   "outputs": [],
   "source": [
    "final = generate_sample_dataset(n_samples, overlap, threshold)"
   ]
  },
  {
   "cell_type": "code",
   "execution_count": 211,
   "id": "80606cce-b9fc-4577-a308-0069e842d7fb",
   "metadata": {},
   "outputs": [
    {
     "data": {
      "text/plain": [
       "negative    5881\n",
       "positive    4119\n",
       "Name: predicted_label, dtype: int64"
      ]
     },
     "execution_count": 211,
     "metadata": {},
     "output_type": "execute_result"
    }
   ],
   "source": [
    "final['predicted_label'].value_counts()"
   ]
  },
  {
   "cell_type": "code",
   "execution_count": 212,
   "id": "d9c53c24-7e26-415f-adbc-2e3e183b8d74",
   "metadata": {},
   "outputs": [
    {
     "data": {
      "image/png": "[encoded data removed]",
      "text/plain": [
       "<Figure size 432x288 with 1 Axes>"
      ]
     },
     "metadata": {
      "needs_background": "light"
     },
     "output_type": "display_data"
    }
   ],
   "source": [
    "ax = sns.histplot(data=final, x=\"predicted_probability\", hue='predicted_label', kde=True)"
   ]
  },
  {
   "cell_type": "markdown",
   "id": "f204ef7f-629d-42e9-bab3-eb6b7cc9bee1",
   "metadata": {},
   "source": [
    "### Testing the Accuracy"
   ]
  },
  {
   "cell_type": "markdown",
   "id": "ad407453-2d96-4e28-8578-51db3139410b",
   "metadata": {},
   "source": [
    "- To test the accuracy, we can compare the `actual` with the `predicted` column.\n",
    "- Remember that `True` has a value of `1` in Python. Thus using `mean` to get the accuracy is valid. "
   ]
  },
  {
   "cell_type": "code",
   "execution_count": 13,
   "id": "8780eb5f-e091-4d3e-a4cf-89906137e853",
   "metadata": {},
   "outputs": [
    {
     "data": {
      "text/plain": [
       "77.0"
      ]
     },
     "execution_count": 13,
     "metadata": {},
     "output_type": "execute_result"
    }
   ],
   "source": [
    "accuracy = (test_df['actual'] == test_df['predicted']).mean() * 100\n",
    "accuracy"
   ]
  },
  {
   "cell_type": "markdown",
   "id": "af03cdd9-35bf-4f80-b361-d5d5247c331c",
   "metadata": {},
   "source": [
    "- Our model is 90% accurate\n",
    "- But that is an incomplete picture of the performance of our classifier\n",
    "- That is where the confusingly named `confusion matrix` comes in\n",
    "- Let us discuss each part"
   ]
  },
  {
   "cell_type": "markdown",
   "id": "7a9f487b-bcf9-420e-a841-978c13e8014e",
   "metadata": {},
   "source": [
    "### Confusion Matrix"
   ]
  },
  {
   "cell_type": "markdown",
   "id": "22295e63-4410-4803-b450-6762b3201032",
   "metadata": {},
   "source": [
    "#### True Positive\n",
    "\n",
    "- spams labelled acurately as spams"
   ]
  },
  {
   "cell_type": "code",
   "execution_count": 24,
   "id": "9cfb3d19-9aaa-4560-b3c7-73255043a131",
   "metadata": {},
   "outputs": [
    {
     "data": {
      "text/plain": [
       "30"
      ]
     },
     "execution_count": 24,
     "metadata": {},
     "output_type": "execute_result"
    }
   ],
   "source": [
    "tp_classifier = (test_df['actual']=='spam') & (test_df['predicted']=='spam')\n",
    "tp_classifier.sum()"
   ]
  },
  {
   "cell_type": "code",
   "execution_count": 25,
   "id": "00011a82-270f-401b-b8d5-8a221625cdd3",
   "metadata": {},
   "outputs": [
    {
     "data": {
      "text/plain": [
       "0.8108108108108109"
      ]
     },
     "execution_count": 25,
     "metadata": {},
     "output_type": "execute_result"
    }
   ],
   "source": [
    "tpr = tp_classifier.sum() / (test_df['actual']=='spam').sum()\n",
    "tpr"
   ]
  },
  {
   "cell_type": "markdown",
   "id": "92dac00f-3a63-4643-a085-fba6da0f95b1",
   "metadata": {},
   "source": [
    "#### True Negative\n",
    "\n",
    "- not spams labelled as such"
   ]
  },
  {
   "cell_type": "code",
   "execution_count": 26,
   "id": "6b79037d-9640-49fc-968b-a751c15a47b7",
   "metadata": {},
   "outputs": [
    {
     "data": {
      "text/plain": [
       "47"
      ]
     },
     "execution_count": 26,
     "metadata": {},
     "output_type": "execute_result"
    }
   ],
   "source": [
    "tn_classifier = (test_df['actual']=='not_spam') & (test_df['predicted']=='not_spam')\n",
    "tn_classifier.sum()"
   ]
  },
  {
   "cell_type": "code",
   "execution_count": 27,
   "id": "17369dde-e705-49bb-acbc-03a070cd31e3",
   "metadata": {},
   "outputs": [
    {
     "data": {
      "text/plain": [
       "0.746031746031746"
      ]
     },
     "execution_count": 27,
     "metadata": {},
     "output_type": "execute_result"
    }
   ],
   "source": [
    "tnr = tn_classifier.sum() / (test_df['actual']=='not_spam').sum()\n",
    "tnr"
   ]
  },
  {
   "cell_type": "markdown",
   "id": "bdeb3e4e-4c06-4c08-91b9-e5cd1821e17b",
   "metadata": {},
   "source": [
    "#### False Positive\n",
    "\n",
    "- Not spams labelled as spams"
   ]
  },
  {
   "cell_type": "code",
   "execution_count": 28,
   "id": "39b6f06c-1f62-456e-8d7c-b0fb6b1fb873",
   "metadata": {},
   "outputs": [
    {
     "data": {
      "text/plain": [
       "16"
      ]
     },
     "execution_count": 28,
     "metadata": {},
     "output_type": "execute_result"
    }
   ],
   "source": [
    "fp_classifier = (test_df['actual']=='not_spam') & (test_df['predicted']=='spam')\n",
    "fp_classifier.sum()"
   ]
  },
  {
   "cell_type": "code",
   "execution_count": 29,
   "id": "36ebd2ba-e3c3-4791-b492-f93b95416460",
   "metadata": {},
   "outputs": [
    {
     "data": {
      "text/plain": [
       "0.43243243243243246"
      ]
     },
     "execution_count": 29,
     "metadata": {},
     "output_type": "execute_result"
    }
   ],
   "source": [
    "fpr = fp_classifier.sum() / (test_df['actual']=='spam').sum()\n",
    "fpr"
   ]
  },
  {
   "cell_type": "raw",
   "id": "14c61659-226e-4db7-80a1-c9d540c0138c",
   "metadata": {},
   "source": [
    "test_df[fp_classifier]"
   ]
  },
  {
   "cell_type": "markdown",
   "id": "a5649836-87f0-4620-818c-dd503a7ac297",
   "metadata": {},
   "source": [
    "#### False Negative\n",
    "\n",
    "- Spams labelled as not spams"
   ]
  },
  {
   "cell_type": "code",
   "execution_count": 22,
   "id": "c66c17ba-3f36-4037-869d-fe6c34218b85",
   "metadata": {},
   "outputs": [
    {
     "data": {
      "text/plain": [
       "7"
      ]
     },
     "execution_count": 22,
     "metadata": {},
     "output_type": "execute_result"
    }
   ],
   "source": [
    "fn_classifier = (test_df['actual']=='spam') & (test_df['predicted']=='not_spam')\n",
    "fn_classifier.sum()"
   ]
  },
  {
   "cell_type": "code",
   "execution_count": 23,
   "id": "85c76d6c-0521-4964-97cc-d5e57bbbc161",
   "metadata": {},
   "outputs": [
    {
     "data": {
      "text/plain": [
       "0.12962962962962962"
      ]
     },
     "execution_count": 23,
     "metadata": {},
     "output_type": "execute_result"
    }
   ],
   "source": [
    "fnr = fn_classifier.sum() / (test_df['predicted']=='not_spam').sum()\n",
    "fnr"
   ]
  },
  {
   "cell_type": "code",
   "execution_count": null,
   "id": "6612aff5-88d9-4a52-8f02-e6772891f99f",
   "metadata": {},
   "outputs": [],
   "source": []
  }
 ],
 "metadata": {
  "kernelspec": {
   "display_name": "Python 3",
   "language": "python",
   "name": "python3"
  },
  "language_info": {
   "codemirror_mode": {
    "name": "ipython",
    "version": 3
   },
   "file_extension": ".py",
   "mimetype": "text/x-python",
   "name": "python",
   "nbconvert_exporter": "python",
   "pygments_lexer": "ipython3",
   "version": "3.8.8"
  }
 },
 "nbformat": 4,
 "nbformat_minor": 5
}
