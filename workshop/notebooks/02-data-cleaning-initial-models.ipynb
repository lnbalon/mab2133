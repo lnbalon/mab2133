{
 "cells": [
  {
   "cell_type": "code",
   "execution_count": 2,
   "id": "71aee55e-c854-45ec-90ee-14192c693d2c",
   "metadata": {},
   "outputs": [],
   "source": [
    "import pandas as pd\n",
    "import numpy as np\n",
    "import matplotlib.pyplot as plt\n",
    "import seaborn as sns\n",
    "import warnings\n",
    "import sys\n",
    "import os"
   ]
  },
  {
   "cell_type": "code",
   "execution_count": 3,
   "id": "c418713a-cc46-462c-b13f-c032fde80a59",
   "metadata": {},
   "outputs": [],
   "source": [
    "from sklearn import svm\n",
    "from sklearn import metrics\n",
    "from sklearn.model_selection import GridSearchCV\n",
    "from sklearn.model_selection import train_test_split\n",
    "from sklearn.preprocessing import StandardScaler\n",
    "from xgboost import XGBClassifier"
   ]
  },
  {
   "cell_type": "code",
   "execution_count": 4,
   "id": "a5f37435-1138-444b-af5a-0e30b95e29dc",
   "metadata": {},
   "outputs": [],
   "source": [
    "from keras.models import Sequential\n",
    "from keras.layers import Dense"
   ]
  },
  {
   "cell_type": "markdown",
   "id": "bfada768-eb4a-4378-9a25-b5f72528d2e4",
   "metadata": {},
   "source": [
    "Set notebook properties"
   ]
  },
  {
   "cell_type": "code",
   "execution_count": 5,
   "id": "962b052d-35b0-465d-9b71-c51aaf0ce092",
   "metadata": {},
   "outputs": [],
   "source": [
    "warnings.filterwarnings('ignore')\n",
    "pd.options.display.max_columns = None\n",
    "sns.set_style(\"darkgrid\")"
   ]
  },
  {
   "cell_type": "markdown",
   "id": "91a7dc86-5ccf-4e19-8099-1b49942c7823",
   "metadata": {},
   "source": [
    "Set data path"
   ]
  },
  {
   "cell_type": "code",
   "execution_count": 6,
   "id": "57672b0f-57b7-4785-9871-bea413741ca6",
   "metadata": {},
   "outputs": [],
   "source": [
    "DATA_PATH = r'../data_source'"
   ]
  },
  {
   "cell_type": "code",
   "execution_count": 7,
   "id": "3323c08a-ca07-461e-b0d0-814757bf55b8",
   "metadata": {},
   "outputs": [],
   "source": [
    "training_set_features = pd.read_csv(os.path.join(DATA_PATH, 'training_set_features.csv'))\n",
    "training_set_labels = pd.read_csv(os.path.join(DATA_PATH, 'training_set_labels.csv'))\n",
    "test_set_features = pd.read_csv(os.path.join(DATA_PATH, 'test_set_features.csv'))"
   ]
  },
  {
   "cell_type": "code",
   "execution_count": 8,
   "id": "7a95db58-9514-402e-a8ef-533db2093373",
   "metadata": {},
   "outputs": [],
   "source": [
    "train_df = training_set_features.merge(training_set_labels, on=['respondent_id'], how='left')"
   ]
  },
  {
   "cell_type": "markdown",
   "id": "03de0623-6412-49a1-bd9c-122e63f4f5ce",
   "metadata": {},
   "source": [
    "#### Process Features"
   ]
  },
  {
   "cell_type": "code",
   "execution_count": 9,
   "id": "ca30e725-def7-4fa2-bb4b-f8da91b3dfaf",
   "metadata": {},
   "outputs": [],
   "source": [
    "def process_features(df):\n",
    "    \n",
    "    cols_to_process =  ['h1n1_concern', 'h1n1_knowledge',\n",
    "                        'opinion_h1n1_vacc_effective', 'opinion_h1n1_risk',\n",
    "                        'opinion_h1n1_sick_from_vacc', 'opinion_seas_vacc_effective',\n",
    "                        'opinion_seas_risk', 'opinion_seas_sick_from_vacc', 'age_group',\n",
    "                        'education', 'race', 'sex', 'income_poverty', 'marital_status',\n",
    "                        'rent_or_own', 'employment_status', 'hhs_geo_region', 'census_msa',\n",
    "                        'household_adults', 'household_children', 'employment_industry',\n",
    "                        'employment_occupation']\n",
    "    \n",
    "    for i in cols_to_process:\n",
    "        df[i] = [f'{i}_' + str(x)  for x in df[i]]\n",
    "        \n",
    "    concat_list = []\n",
    "    for i in cols_to_process:\n",
    "        concat_list.append(pd.get_dummies(df[i]))\n",
    "        \n",
    "    one_hot_encoded = pd.concat(concat_list, axis=1)\n",
    "    df = df.drop(columns=cols_to_process)\n",
    "    df_concatenated = pd.concat([df, one_hot_encoded], axis=1)\n",
    "        \n",
    "    return df_concatenated"
   ]
  },
  {
   "cell_type": "code",
   "execution_count": 10,
   "id": "495c985c-df67-4ad4-9bdd-78c599125170",
   "metadata": {},
   "outputs": [],
   "source": [
    "X = process_features(training_set_features).iloc[:,1:].fillna(0)\n",
    "y_h1n1 = training_set_labels['h1n1_vaccine']\n",
    "y_seasonal = training_set_labels['seasonal_vaccine']"
   ]
  },
  {
   "cell_type": "code",
   "execution_count": 11,
   "id": "77348434-4457-4cbc-99df-9516d9d4e572",
   "metadata": {},
   "outputs": [],
   "source": [
    "X_test = process_features(test_set_features).iloc[:,1:].fillna(0)"
   ]
  },
  {
   "cell_type": "raw",
   "id": "e5155f17-3e43-48dd-b12b-0d8184dbaa85",
   "metadata": {},
   "source": [
    "X_train, X_test, y_train_h1n1, y_test_h1n1 = train_test_split(X, y_h1n1, \n",
    "                                                              test_size=0.3, \n",
    "                                                              random_state=109)\n",
    "\n",
    "X_train, X_test, y_train_seasonal, y_test_seasonal = train_test_split(X, y_seasonal, \n",
    "                                                              test_size=0.3, \n",
    "                                                              random_state=109)"
   ]
  },
  {
   "cell_type": "raw",
   "id": "6194d601-f0be-40e3-89c0-ce367b69f08c",
   "metadata": {},
   "source": [
    "X_test"
   ]
  },
  {
   "cell_type": "code",
   "execution_count": 12,
   "id": "3a9bedaf-650e-474e-8cd9-03b33e7717bc",
   "metadata": {},
   "outputs": [],
   "source": [
    "def train_model(X,y):\n",
    "    \n",
    "    model = Sequential()\n",
    "    model.add(Dense(25, input_dim=157, activation='relu'))\n",
    "    model.add(Dense(10, activation='relu'))\n",
    "    model.add(Dense(1, activation='sigmoid'))\n",
    "\n",
    "\n",
    "    model.compile(loss='binary_crossentropy', optimizer='adam', metrics=['accuracy'])\n",
    "    model.fit(X, y, epochs=20, batch_size=10, verbose=1)\n",
    "    \n",
    "    return model"
   ]
  },
  {
   "cell_type": "code",
   "execution_count": 13,
   "id": "228b85df-9c3f-4ff5-a8de-bf2046120890",
   "metadata": {},
   "outputs": [],
   "source": [
    "def train_model2(X,y):\n",
    "    \n",
    "    model = Sequential()\n",
    "    model.add(Dense(45, input_dim=157, activation='relu'))\n",
    "    model.add(Dense(10, activation='relu'))\n",
    "    model.add(Dense(1, activation='sigmoid'))\n",
    "\n",
    "    model.compile(loss='binary_crossentropy', optimizer='adam', metrics=['accuracy'])\n",
    "    model.fit(X, y, epochs=20, batch_size=10, verbose=1)\n",
    "    \n",
    "    return model"
   ]
  },
  {
   "cell_type": "code",
   "execution_count": 14,
   "id": "6d060c25-0468-4e8f-88f6-5cbb3255f96e",
   "metadata": {},
   "outputs": [],
   "source": [
    "def train_model3(X,y):\n",
    "    \n",
    "    model = Sequential()\n",
    "    model.add(Dense(30, input_dim=157, activation='relu'))\n",
    "    model.add(Dense(10, activation='relu'))\n",
    "    model.add(Dense(30, activation='relu'))\n",
    "    model.add(Dense(10, activation='relu'))\n",
    "    model.add(Dense(30, activation='relu'))\n",
    "    model.add(Dense(1, activation='sigmoid'))\n",
    "\n",
    "\n",
    "    model.compile(loss='binary_crossentropy', optimizer='adam', metrics=['accuracy'])\n",
    "    model.fit(X, y, epochs=20, batch_size=10, verbose=1)\n",
    "    \n",
    "    return model"
   ]
  },
  {
   "cell_type": "code",
   "execution_count": 15,
   "id": "2adab84d-fb28-4112-b853-03f04f2277b4",
   "metadata": {},
   "outputs": [],
   "source": [
    "def train_model3(X,y):\n",
    "    \n",
    "    model = Sequential()\n",
    "    model.add(Dense(30, input_dim=157, activation='relu'))\n",
    "    model.add(Dense(10))\n",
    "    model.add(Dense(30))\n",
    "    model.add(Dense(10))\n",
    "    model.add(Dense(30))\n",
    "    model.add(Dense(1, activation='sigmoid'))\n",
    "\n",
    "\n",
    "    model.compile(loss='binary_crossentropy', optimizer='adam', metrics=['accuracy'])\n",
    "    model.fit(X, y, epochs=20, batch_size=10, verbose=1)\n",
    "    \n",
    "    return model"
   ]
  },
  {
   "cell_type": "code",
   "execution_count": 16,
   "id": "33663db1-bacd-4f22-bb43-13884a906a4d",
   "metadata": {},
   "outputs": [],
   "source": [
    "def train_model4(X,y):\n",
    "    \n",
    "    model = Sequential()\n",
    "    model.add(Dense(30, input_dim=157, activation='linear'))\n",
    "    model.add(Dense(1, activation='sigmoid'))\n",
    "\n",
    "\n",
    "    model.compile(loss='binary_crossentropy', optimizer='adam', metrics=['accuracy'])\n",
    "    model.fit(X, y, epochs=20, batch_size=10, verbose=1)\n",
    "    \n",
    "    return model"
   ]
  },
  {
   "cell_type": "code",
   "execution_count": 21,
   "id": "1646848d-164d-4919-8e87-4f6693d99406",
   "metadata": {},
   "outputs": [],
   "source": [
    "def hyperParameterTuning(X_train, y_train):\n",
    "    param_tuning = {\n",
    "        'learning_rate': [0.01, 0.1],\n",
    "        'max_depth': [3, 5, 7, 10],\n",
    "        'min_child_weight': [1, 3, 5],\n",
    "        'subsample': [0.5, 0.7],\n",
    "        'colsample_bytree': [0.5, 0.7],\n",
    "        'n_estimators' : [100, 200, 500],\n",
    "        'objective': ['binary:logistic']\n",
    "    }\n",
    "    X_train.columns = ['col_' + str(x) for x in range(len(X_train.columns))]\n",
    "\n",
    "    xgb_model = XGBClassifier()\n",
    "\n",
    "    gsearch = GridSearchCV(estimator = xgb_model,\n",
    "                           param_grid = param_tuning,                        \n",
    "                           cv = 5,\n",
    "                           n_jobs = -1,\n",
    "                           verbose = 1)\n",
    "\n",
    "    gsearch.fit(X_train,y_train)\n",
    "\n",
    "    return gsearch.best_params_"
   ]
  },
  {
   "cell_type": "raw",
   "id": "85cb684e-27ad-4daa-96df-fa6604794d0f",
   "metadata": {},
   "source": [
    "hyperParameterTuning(X, y_h1n1)"
   ]
  },
  {
   "cell_type": "code",
   "execution_count": null,
   "id": "cdac2e5f-4e92-42c3-9764-faa1630fa70b",
   "metadata": {},
   "outputs": [],
   "source": [
    "hyperParameterTuning(X, y_seasonal)"
   ]
  },
  {
   "cell_type": "raw",
   "id": "654f7e67-65e1-404e-849a-21f4c31ac89f",
   "metadata": {},
   "source": [
    "def train_model5(X,y):\n",
    "    X.columns = ['col_' + str(x) for x in range(len(X.columns))]\n",
    "    xgb = XGBClassifier(learning_rate=0.1, n_estimators=140, max_depth=5,\n",
    "                        min_child_weight=2, gamma=0, subsample=0.8, colsample_bytree=0.8,\n",
    "                        objective= 'binary:logistic', nthread=4, scale_pos_weight=1,seed=27)\n",
    "    xgb.fit(X, y)\n",
    "    \n",
    "    return xgb"
   ]
  },
  {
   "cell_type": "code",
   "execution_count": 17,
   "id": "4bdbbde2-7161-4e20-b276-b49dcf2480e9",
   "metadata": {},
   "outputs": [
    {
     "name": "stdout",
     "output_type": "stream",
     "text": [
      "[17:47:38] WARNING: /tmp/build/80754af9/xgboost-split_1619724447847/work/src/learner.cc:1061: Starting in XGBoost 1.3.0, the default evaluation metric used with the objective 'binary:logistic' was changed from 'error' to 'logloss'. Explicitly set eval_metric if you'd like to restore the old behavior.\n"
     ]
    }
   ],
   "source": [
    "trained_model_h1n1 = train_model5(X, y_h1n1)"
   ]
  },
  {
   "cell_type": "code",
   "execution_count": 18,
   "id": "8e937b83-4393-485a-9f99-d57388ea8540",
   "metadata": {},
   "outputs": [
    {
     "name": "stdout",
     "output_type": "stream",
     "text": [
      "[17:47:41] WARNING: /tmp/build/80754af9/xgboost-split_1619724447847/work/src/learner.cc:1061: Starting in XGBoost 1.3.0, the default evaluation metric used with the objective 'binary:logistic' was changed from 'error' to 'logloss'. Explicitly set eval_metric if you'd like to restore the old behavior.\n"
     ]
    }
   ],
   "source": [
    "trained_model_seasonal = train_model5(X, y_seasonal)"
   ]
  },
  {
   "cell_type": "code",
   "execution_count": 26,
   "id": "72515007-7e98-48db-be8c-adda5f08a284",
   "metadata": {},
   "outputs": [],
   "source": [
    "# predictions_h1n1 = trained_model_h1n1.predict_classes(X_test)\n",
    "X_test.columns = ['col_' + str(x) for x in range(len(X_test.columns))]\n",
    "probability_h1n1 = trained_model_h1n1.predict_proba(X_test)\n",
    "probability_h1n1 = [x[1] for x in probability_h1n1]"
   ]
  },
  {
   "cell_type": "code",
   "execution_count": 27,
   "id": "bdccde31-eb3b-44ff-8236-4899c07bec26",
   "metadata": {},
   "outputs": [],
   "source": [
    "# predictions_seasonal = trained_model_seasonal.predict_classes(X_test)\n",
    "X_test.columns = ['col_' + str(x) for x in range(len(X_test.columns))]\n",
    "probability_seasonal = trained_model_seasonal.predict_proba(X_test)\n",
    "probability_seasonal = [x[1] for x in probability_seasonal]"
   ]
  },
  {
   "cell_type": "code",
   "execution_count": 28,
   "id": "8ca35741-0931-4b5d-934e-f5903ee06117",
   "metadata": {},
   "outputs": [],
   "source": [
    "submission = pd.DataFrame()\n",
    "submission['respondent_id'] = test_set_features['respondent_id']\n",
    "submission['h1n1_vaccine'] = probability_h1n1\n",
    "submission['seasonal_vaccine'] = probability_seasonal"
   ]
  },
  {
   "cell_type": "code",
   "execution_count": 29,
   "id": "2c24b459-b3c1-46f7-99e4-25b8c26776ad",
   "metadata": {},
   "outputs": [],
   "source": [
    "outpath = os.path.join(r'../output', 'sub7.csv')"
   ]
  },
  {
   "cell_type": "code",
   "execution_count": 30,
   "id": "011cb502-f6e5-46a1-b89e-c905dff949b9",
   "metadata": {},
   "outputs": [],
   "source": [
    "submission.to_csv(outpath, index=False)"
   ]
  },
  {
   "cell_type": "code",
   "execution_count": null,
   "id": "59322422-6c04-420f-8c40-4d13bb1ac5e7",
   "metadata": {},
   "outputs": [],
   "source": []
  }
 ],
 "metadata": {
  "kernelspec": {
   "display_name": "Python 3",
   "language": "python",
   "name": "python3"
  },
  "language_info": {
   "codemirror_mode": {
    "name": "ipython",
    "version": 3
   },
   "file_extension": ".py",
   "mimetype": "text/x-python",
   "name": "python",
   "nbconvert_exporter": "python",
   "pygments_lexer": "ipython3",
   "version": "3.8.8"
  }
 },
 "nbformat": 4,
 "nbformat_minor": 5
}
